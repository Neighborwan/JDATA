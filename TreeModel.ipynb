{
 "cells": [
  {
   "cell_type": "code",
   "execution_count": 1,
   "metadata": {},
   "outputs": [],
   "source": [
    "import pandas as pd\n",
    "import numpy as np\n",
    "import lightgbm as lgb\n",
    "from sklearn import metrics\n",
    "import matplotlib.pyplot as plt\n",
    "import seaborn as sns"
   ]
  },
  {
   "cell_type": "code",
   "execution_count": 2,
   "metadata": {},
   "outputs": [],
   "source": [
    "train = pd.read_csv('../data/train_featureV1.csv')\n",
    "test = pd.read_csv('../data/test_featureV1.csv')"
   ]
  },
  {
   "cell_type": "code",
   "execution_count": 3,
   "metadata": {},
   "outputs": [],
   "source": [
    "dtrain = lgb.Dataset(train.drop(['uid','label'],axis=1),label=train.label)\n",
    "dtest = lgb.Dataset(test.drop(['uid'],axis=1))"
   ]
  },
  {
   "cell_type": "code",
   "execution_count": 4,
   "metadata": {},
   "outputs": [],
   "source": [
    "lgb_params =  {\n",
    "    'boosting_type': 'gbdt',\n",
    "    'objective': 'binary',\n",
    "    'max_bin': 10,\n",
    "    'is_unbalance': True,\n",
    "#    'metric': ('multi_logloss', 'multi_error'),\n",
    "    #'metric_freq': 100,\n",
    "    'is_training_metric': False,\n",
    "    'min_data_in_leaf': 45,\n",
    "    'num_leaves': 84,\n",
    "    'learning_rate': 0.06,\n",
    "    'feature_fraction': 0.6,\n",
    "    'bagging_fraction': 0.9,\n",
    "    'bagging_freq': 1,\n",
    "    'verbosity':-1,\n",
    "#    'gpu_device_id':2,\n",
    "#    'device':'gpu'\n",
    "#    'lambda_l1': 0.001,\n",
    "#    'skip_drop': 0.95,\n",
    "#    'max_drop' : 10\n",
    "    #'lambda_l2': 0.005\n",
    "    #'num_threads': 18\n",
    "}    "
   ]
  },
  {
   "cell_type": "code",
   "execution_count": 5,
   "metadata": {},
   "outputs": [],
   "source": [
    "def evalMetric(preds,dtrain):\n",
    "    \n",
    "    label = dtrain.get_label()\n",
    "    \n",
    "    \n",
    "    pre = pd.DataFrame({'preds':preds,'label':label})\n",
    "    pre= pre.sort_values(by='preds',ascending=False)\n",
    "    \n",
    "    auc = metrics.roc_auc_score(pre.label,pre.preds)\n",
    "\n",
    "    pre.preds=pre.preds.map(lambda x: 1 if x>=0.5 else 0)\n",
    "\n",
    "    f1 = metrics.f1_score(pre.label,pre.preds)\n",
    "    \n",
    "    \n",
    "    res = 0.6*auc +0.4*f1\n",
    "    \n",
    "    return 'res',res,True\n",
    "    \n",
    "\n",
    "    "
   ]
  },
  {
   "cell_type": "markdown",
   "metadata": {},
   "source": [
    "### 本地CV"
   ]
  },
  {
   "cell_type": "code",
   "execution_count": 6,
   "metadata": {},
   "outputs": [
    {
     "name": "stderr",
     "output_type": "stream",
     "text": [
      "/Library/Frameworks/Python.framework/Versions/3.6/lib/python3.6/site-packages/sklearn/metrics/classification.py:1135: UndefinedMetricWarning: F-score is ill-defined and being set to 0.0 due to no predicted samples.\n",
      "  'precision', 'predicted', average, warn_for)\n"
     ]
    },
    {
     "name": "stdout",
     "output_type": "stream",
     "text": [
      "[5]\tcv_agg's res: 0.532076 + 0.00656879\n",
      "[10]\tcv_agg's res: 0.66736 + 0.0249002\n",
      "[15]\tcv_agg's res: 0.776856 + 0.0159484\n",
      "[20]\tcv_agg's res: 0.793352 + 0.0129779\n",
      "[25]\tcv_agg's res: 0.798481 + 0.0134013\n",
      "[30]\tcv_agg's res: 0.801592 + 0.0132262\n",
      "[35]\tcv_agg's res: 0.804545 + 0.0108797\n",
      "[40]\tcv_agg's res: 0.803477 + 0.0113134\n",
      "[45]\tcv_agg's res: 0.805241 + 0.0113293\n",
      "[50]\tcv_agg's res: 0.806787 + 0.0111546\n",
      "[55]\tcv_agg's res: 0.806818 + 0.0085637\n",
      "[60]\tcv_agg's res: 0.80841 + 0.00806579\n",
      "[65]\tcv_agg's res: 0.808085 + 0.00873363\n",
      "[70]\tcv_agg's res: 0.80931 + 0.0108592\n",
      "[75]\tcv_agg's res: 0.810291 + 0.0095475\n",
      "[80]\tcv_agg's res: 0.807991 + 0.0134097\n",
      "[85]\tcv_agg's res: 0.808291 + 0.0126103\n",
      "[90]\tcv_agg's res: 0.809188 + 0.011212\n",
      "[95]\tcv_agg's res: 0.808374 + 0.0117471\n",
      "[100]\tcv_agg's res: 0.808346 + 0.0112915\n",
      "[105]\tcv_agg's res: 0.808351 + 0.011493\n",
      "[110]\tcv_agg's res: 0.808531 + 0.0116089\n",
      "[115]\tcv_agg's res: 0.806874 + 0.0125816\n",
      "[120]\tcv_agg's res: 0.808436 + 0.0118868\n",
      "[125]\tcv_agg's res: 0.807357 + 0.012448\n",
      "[130]\tcv_agg's res: 0.805317 + 0.0151702\n",
      "[135]\tcv_agg's res: 0.805592 + 0.0126562\n",
      "[140]\tcv_agg's res: 0.804893 + 0.0133062\n",
      "[145]\tcv_agg's res: 0.804715 + 0.0152011\n",
      "[150]\tcv_agg's res: 0.8047 + 0.0149703\n",
      "[155]\tcv_agg's res: 0.80447 + 0.0139415\n",
      "[160]\tcv_agg's res: 0.803894 + 0.015243\n",
      "[165]\tcv_agg's res: 0.803387 + 0.0144738\n",
      "[170]\tcv_agg's res: 0.804521 + 0.014615\n",
      "[175]\tcv_agg's res: 0.803464 + 0.0157278\n"
     ]
    },
    {
     "data": {
      "text/plain": [
       "{'res-mean': [0.4944317527096736,\n",
       "  0.5265434686679641,\n",
       "  0.5297530597293879,\n",
       "  0.5328255242891513,\n",
       "  0.532076194500288,\n",
       "  0.534570075220021,\n",
       "  0.5353874918198361,\n",
       "  0.5623493322870697,\n",
       "  0.6101280736504392,\n",
       "  0.6673597835722799,\n",
       "  0.7174758676845702,\n",
       "  0.7462743098436642,\n",
       "  0.7603074652910563,\n",
       "  0.767662131500209,\n",
       "  0.7768563421341822,\n",
       "  0.7788540349076757,\n",
       "  0.7827563073463848,\n",
       "  0.7861669919314135,\n",
       "  0.787304593820759,\n",
       "  0.793352485303969,\n",
       "  0.7952378524632667,\n",
       "  0.797693481347263,\n",
       "  0.7988883567556551,\n",
       "  0.7998625387123447,\n",
       "  0.7984813315392,\n",
       "  0.799191029362559,\n",
       "  0.8013087576963148,\n",
       "  0.8029389151810089,\n",
       "  0.802003227665239,\n",
       "  0.801592046360606,\n",
       "  0.8036599122884963,\n",
       "  0.8035923240552388,\n",
       "  0.803532176056863,\n",
       "  0.8037593280421872,\n",
       "  0.8045447698890013,\n",
       "  0.8059723791414299,\n",
       "  0.8042080162194317,\n",
       "  0.8034948347362217,\n",
       "  0.8044980720463162,\n",
       "  0.8034773899326999,\n",
       "  0.8034168346009191,\n",
       "  0.8044710408574574,\n",
       "  0.8052049951598329,\n",
       "  0.8056137240665606,\n",
       "  0.8052411813154295,\n",
       "  0.8050801076067939,\n",
       "  0.8054685859999875,\n",
       "  0.8048835442681389,\n",
       "  0.8058039782944805,\n",
       "  0.8067869998672617,\n",
       "  0.8066367717780754,\n",
       "  0.8060968078774916,\n",
       "  0.8068113619666845,\n",
       "  0.8055395221478504,\n",
       "  0.8068180435247457,\n",
       "  0.8071775611456987,\n",
       "  0.8079126257371033,\n",
       "  0.8080746349839808,\n",
       "  0.8077353775031181,\n",
       "  0.8084103744964031,\n",
       "  0.807659036898729,\n",
       "  0.807348255538327,\n",
       "  0.8071538930486706,\n",
       "  0.8076791853856461,\n",
       "  0.8080851788526258,\n",
       "  0.8083147224813322,\n",
       "  0.8090986967859356,\n",
       "  0.8084891300034135,\n",
       "  0.8091776995927272,\n",
       "  0.8093103056225365,\n",
       "  0.8091823015927595,\n",
       "  0.8094301272843358,\n",
       "  0.809488408155377,\n",
       "  0.8087979374160178,\n",
       "  0.8102912360275516],\n",
       " 'res-stdv': [0.006675380879553013,\n",
       "  0.005366040153240813,\n",
       "  0.00585107211193516,\n",
       "  0.0059693974786970165,\n",
       "  0.006568788512121039,\n",
       "  0.005998470059409564,\n",
       "  0.0062455442811802115,\n",
       "  0.010861797562014594,\n",
       "  0.015881508730220786,\n",
       "  0.024900216229625807,\n",
       "  0.02440349446492207,\n",
       "  0.018792878252845233,\n",
       "  0.01944975254446998,\n",
       "  0.01870828803531042,\n",
       "  0.015948388063019014,\n",
       "  0.015808660081357027,\n",
       "  0.017803888785106307,\n",
       "  0.017081736122819297,\n",
       "  0.014483595905293077,\n",
       "  0.012977886336277196,\n",
       "  0.013664955768229929,\n",
       "  0.01288722739828559,\n",
       "  0.014757173482835685,\n",
       "  0.012967853700737388,\n",
       "  0.013401288851062648,\n",
       "  0.011966004987680731,\n",
       "  0.013835104225842656,\n",
       "  0.015459207749569777,\n",
       "  0.014469002831418632,\n",
       "  0.013226167431662298,\n",
       "  0.012558495789706145,\n",
       "  0.011557441567464358,\n",
       "  0.012236349643742109,\n",
       "  0.010716254609523603,\n",
       "  0.010879731549040634,\n",
       "  0.011251045063529277,\n",
       "  0.011161433223218137,\n",
       "  0.010666597242097075,\n",
       "  0.010399482798714286,\n",
       "  0.01131343805037077,\n",
       "  0.009515130455061046,\n",
       "  0.011170526722772535,\n",
       "  0.009247620791452528,\n",
       "  0.010717480273040465,\n",
       "  0.011329293586148072,\n",
       "  0.010165664741606985,\n",
       "  0.01139794395289818,\n",
       "  0.010723345531515126,\n",
       "  0.012063465883715428,\n",
       "  0.01115462297806287,\n",
       "  0.011065964654250113,\n",
       "  0.009312391175368799,\n",
       "  0.00949699404123416,\n",
       "  0.009956234514904357,\n",
       "  0.008563699614579846,\n",
       "  0.009747296286682635,\n",
       "  0.007709570212205419,\n",
       "  0.008151041673924485,\n",
       "  0.007347493466456227,\n",
       "  0.008065794502932482,\n",
       "  0.008077241295038106,\n",
       "  0.009558457493739195,\n",
       "  0.008668760752868687,\n",
       "  0.008656923986625799,\n",
       "  0.00873362801039118,\n",
       "  0.009940050784959872,\n",
       "  0.009951640814708736,\n",
       "  0.01157372056659679,\n",
       "  0.011188506347309333,\n",
       "  0.010859207102306107,\n",
       "  0.009717551686969242,\n",
       "  0.010709809289498376,\n",
       "  0.009826283672933612,\n",
       "  0.010407009893235864,\n",
       "  0.009547498448518627]}"
      ]
     },
     "execution_count": 6,
     "metadata": {},
     "output_type": "execute_result"
    }
   ],
   "source": [
    "lgb.cv(lgb_params,dtrain,feval=evalMetric,early_stopping_rounds=100,verbose_eval=5,num_boost_round=10000,nfold=3,metrics=['evalMetric'])"
   ]
  },
  {
   "cell_type": "markdown",
   "metadata": {},
   "source": [
    "## 训练"
   ]
  },
  {
   "cell_type": "code",
   "execution_count": 7,
   "metadata": {},
   "outputs": [
    {
     "name": "stderr",
     "output_type": "stream",
     "text": [
      "/Library/Frameworks/Python.framework/Versions/3.6/lib/python3.6/site-packages/sklearn/metrics/classification.py:1135: UndefinedMetricWarning: F-score is ill-defined and being set to 0.0 due to no predicted samples.\n",
      "  'precision', 'predicted', average, warn_for)\n"
     ]
    },
    {
     "name": "stdout",
     "output_type": "stream",
     "text": [
      "[5]\ttraining's res: 0.568088\n",
      "[10]\ttraining's res: 0.758842\n",
      "[15]\ttraining's res: 0.876726\n",
      "[20]\ttraining's res: 0.884498\n",
      "[25]\ttraining's res: 0.890475\n",
      "[30]\ttraining's res: 0.891861\n",
      "[35]\ttraining's res: 0.899045\n",
      "[40]\ttraining's res: 0.901831\n",
      "[45]\ttraining's res: 0.908916\n",
      "[50]\ttraining's res: 0.912328\n",
      "[55]\ttraining's res: 0.919076\n",
      "[60]\ttraining's res: 0.923947\n",
      "[65]\ttraining's res: 0.928734\n",
      "[70]\ttraining's res: 0.931679\n",
      "[75]\ttraining's res: 0.936524\n",
      "[80]\ttraining's res: 0.941042\n",
      "[85]\ttraining's res: 0.944484\n",
      "[90]\ttraining's res: 0.948526\n",
      "[95]\ttraining's res: 0.954637\n",
      "[100]\ttraining's res: 0.958813\n",
      "[105]\ttraining's res: 0.964097\n",
      "[110]\ttraining's res: 0.968026\n",
      "[115]\ttraining's res: 0.970594\n",
      "[120]\ttraining's res: 0.974912\n",
      "[125]\ttraining's res: 0.978498\n",
      "[130]\ttraining's res: 0.979919\n",
      "[135]\ttraining's res: 0.982142\n",
      "[140]\ttraining's res: 0.983777\n",
      "[145]\ttraining's res: 0.985433\n",
      "[150]\ttraining's res: 0.986886\n",
      "[155]\ttraining's res: 0.98814\n",
      "[160]\ttraining's res: 0.989399\n",
      "[165]\ttraining's res: 0.990455\n",
      "[170]\ttraining's res: 0.99173\n",
      "[175]\ttraining's res: 0.993013\n",
      "[180]\ttraining's res: 0.994304\n",
      "[185]\ttraining's res: 0.995387\n",
      "[190]\ttraining's res: 0.99604\n",
      "[195]\ttraining's res: 0.996913\n",
      "[200]\ttraining's res: 0.997351\n",
      "[205]\ttraining's res: 0.99779\n",
      "[210]\ttraining's res: 0.99801\n",
      "[215]\ttraining's res: 0.998892\n",
      "[220]\ttraining's res: 0.999334\n",
      "[225]\ttraining's res: 0.999556\n",
      "[230]\ttraining's res: 0.999778\n",
      "[235]\ttraining's res: 0.999778\n",
      "[240]\ttraining's res: 1\n",
      "[245]\ttraining's res: 1\n",
      "[250]\ttraining's res: 1\n",
      "[255]\ttraining's res: 1\n",
      "[260]\ttraining's res: 1\n",
      "[265]\ttraining's res: 1\n",
      "[270]\ttraining's res: 1\n",
      "[275]\ttraining's res: 1\n",
      "[280]\ttraining's res: 1\n",
      "[285]\ttraining's res: 1\n",
      "[290]\ttraining's res: 1\n",
      "[295]\ttraining's res: 1\n",
      "[300]\ttraining's res: 1\n"
     ]
    }
   ],
   "source": [
    "model =lgb.train(lgb_params,dtrain,feval=evalMetric,verbose_eval=5,num_boost_round=300,valid_sets=[dtrain])"
   ]
  },
  {
   "cell_type": "markdown",
   "metadata": {},
   "source": [
    "### 预测"
   ]
  },
  {
   "cell_type": "code",
   "execution_count": 8,
   "metadata": {},
   "outputs": [],
   "source": [
    "pred=model.predict(test.drop(['uid'],axis=1))"
   ]
  },
  {
   "cell_type": "code",
   "execution_count": 9,
   "metadata": {},
   "outputs": [],
   "source": [
    "res =pd.DataFrame({'uid':test.uid,'label':pred})\n"
   ]
  },
  {
   "cell_type": "code",
   "execution_count": 10,
   "metadata": {},
   "outputs": [],
   "source": [
    "res=res.sort_values(by='label',ascending=False)\n",
    "res.label=res.label.map(lambda x: 1 if x>=0.5 else 0)\n",
    "res.label = res.label.map(lambda x: int(x))"
   ]
  },
  {
   "cell_type": "code",
   "execution_count": 11,
   "metadata": {},
   "outputs": [],
   "source": [
    "res.to_csv('../result/lgb-baseline.csv',index=False,header=False,sep=',',columns=['uid','label'])"
   ]
  },
  {
   "cell_type": "code",
   "execution_count": null,
   "metadata": {},
   "outputs": [],
   "source": []
  }
 ],
 "metadata": {
  "kernelspec": {
   "display_name": "Python 3",
   "language": "python",
   "name": "python3"
  },
  "language_info": {
   "codemirror_mode": {
    "name": "ipython",
    "version": 3
   },
   "file_extension": ".py",
   "mimetype": "text/x-python",
   "name": "python",
   "nbconvert_exporter": "python",
   "pygments_lexer": "ipython3",
   "version": "3.6.5"
  }
 },
 "nbformat": 4,
 "nbformat_minor": 2
}
