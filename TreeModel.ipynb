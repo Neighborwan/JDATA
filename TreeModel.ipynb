{
 "cells": [
  {
   "cell_type": "code",
   "execution_count": 1,
   "metadata": {},
   "outputs": [],
   "source": [
    "import pandas as pd\n",
    "import numpy as np\n",
    "import lightgbm as lgb\n",
    "from sklearn import metrics\n",
    "import matplotlib.pyplot as plt\n",
    "import seaborn as sns"
   ]
  },
  {
   "cell_type": "code",
   "execution_count": 2,
   "metadata": {},
   "outputs": [],
   "source": [
    "train = pd.read_csv('../data/train_featureV1.csv')\n",
    "test = pd.read_csv('../data/test_featureV1.csv')"
   ]
  },
  {
   "cell_type": "code",
   "execution_count": 3,
   "metadata": {},
   "outputs": [],
   "source": [
    "dtrain = lgb.Dataset(train.drop(['uid','label'],axis=1),label=train.label)\n",
    "dtest = lgb.Dataset(test.drop(['uid'],axis=1))"
   ]
  },
  {
   "cell_type": "code",
   "execution_count": 4,
   "metadata": {},
   "outputs": [],
   "source": [
    "lgb_params =  {\n",
    "    'boosting_type': 'gbdt',\n",
    "    'objective': 'binary',\n",
    "#    'metric': ('multi_logloss', 'multi_error'),\n",
    "    #'metric_freq': 100,\n",
    "    'is_training_metric': False,\n",
    "    'min_data_in_leaf': 12,\n",
    "    'num_leaves': 64,\n",
    "    'learning_rate': 0.08,\n",
    "    'feature_fraction': 0.8,\n",
    "    'bagging_fraction': 0.8,\n",
    "    'verbosity':-1,\n",
    "#    'gpu_device_id':2,\n",
    "#    'device':'gpu'\n",
    "#    'lambda_l1': 0.001,\n",
    "#    'skip_drop': 0.95,\n",
    "#    'max_drop' : 10\n",
    "    #'lambda_l2': 0.005\n",
    "    #'num_threads': 18\n",
    "}    "
   ]
  },
  {
   "cell_type": "code",
   "execution_count": 5,
   "metadata": {},
   "outputs": [],
   "source": [
    "def evalMetric(preds,dtrain):\n",
    "    \n",
    "    label = dtrain.get_label()\n",
    "    \n",
    "    \n",
    "    pre = pd.DataFrame({'preds':preds,'label':label})\n",
    "    pre= pre.sort_values(by='preds',ascending=False)\n",
    "    \n",
    "    auc = metrics.roc_auc_score(pre.label,pre.preds)\n",
    "\n",
    "    pre.preds=pre.preds.map(lambda x: 1 if x>=0.5 else 0)\n",
    "\n",
    "    f1 = metrics.f1_score(pre.label,pre.preds)\n",
    "    \n",
    "    \n",
    "    res = 0.6*auc +0.4*f1\n",
    "    \n",
    "    return 'res',res,True\n",
    "    \n",
    "\n",
    "    "
   ]
  },
  {
   "cell_type": "markdown",
   "metadata": {},
   "source": [
    "### 本地CV"
   ]
  },
  {
   "cell_type": "code",
   "execution_count": 6,
   "metadata": {},
   "outputs": [
    {
     "name": "stderr",
     "output_type": "stream",
     "text": [
      "/Library/Frameworks/Python.framework/Versions/3.6/lib/python3.6/site-packages/sklearn/metrics/classification.py:1135: UndefinedMetricWarning: F-score is ill-defined and being set to 0.0 due to no predicted samples.\n",
      "  'precision', 'predicted', average, warn_for)\n"
     ]
    },
    {
     "name": "stdout",
     "output_type": "stream",
     "text": [
      "[5]\tcv_agg's res: 0.527603 + 0.00828904\n",
      "[10]\tcv_agg's res: 0.638823 + 0.0147401\n",
      "[15]\tcv_agg's res: 0.697774 + 0.014801\n",
      "[20]\tcv_agg's res: 0.725381 + 0.0151415\n",
      "[25]\tcv_agg's res: 0.737411 + 0.0157205\n",
      "[30]\tcv_agg's res: 0.748324 + 0.0199827\n",
      "[35]\tcv_agg's res: 0.75122 + 0.0193976\n",
      "[40]\tcv_agg's res: 0.759311 + 0.016527\n",
      "[45]\tcv_agg's res: 0.762123 + 0.0150032\n",
      "[50]\tcv_agg's res: 0.762837 + 0.0145641\n",
      "[55]\tcv_agg's res: 0.767502 + 0.015413\n",
      "[60]\tcv_agg's res: 0.767884 + 0.0130821\n",
      "[65]\tcv_agg's res: 0.768021 + 0.0121449\n",
      "[70]\tcv_agg's res: 0.769143 + 0.0110887\n",
      "[75]\tcv_agg's res: 0.769768 + 0.0159048\n",
      "[80]\tcv_agg's res: 0.768273 + 0.014145\n",
      "[85]\tcv_agg's res: 0.76629 + 0.0128077\n",
      "[90]\tcv_agg's res: 0.768633 + 0.0120366\n",
      "[95]\tcv_agg's res: 0.767113 + 0.00930545\n",
      "[100]\tcv_agg's res: 0.767846 + 0.00972059\n",
      "[105]\tcv_agg's res: 0.769352 + 0.00861048\n",
      "[110]\tcv_agg's res: 0.768729 + 0.00739414\n",
      "[115]\tcv_agg's res: 0.768213 + 0.0103566\n",
      "[120]\tcv_agg's res: 0.768673 + 0.00969217\n",
      "[125]\tcv_agg's res: 0.769847 + 0.00900538\n",
      "[130]\tcv_agg's res: 0.768608 + 0.0108574\n",
      "[135]\tcv_agg's res: 0.768697 + 0.00976149\n",
      "[140]\tcv_agg's res: 0.768512 + 0.00761283\n",
      "[145]\tcv_agg's res: 0.768899 + 0.00732747\n",
      "[150]\tcv_agg's res: 0.7706 + 0.0079029\n",
      "[155]\tcv_agg's res: 0.770168 + 0.0096753\n",
      "[160]\tcv_agg's res: 0.769878 + 0.0104207\n",
      "[165]\tcv_agg's res: 0.77037 + 0.00877674\n",
      "[170]\tcv_agg's res: 0.768461 + 0.00998057\n",
      "[175]\tcv_agg's res: 0.768843 + 0.0105742\n"
     ]
    },
    {
     "data": {
      "text/plain": [
       "{'res-mean': [0.48350757341261974,\n",
       "  0.497528780431727,\n",
       "  0.5116135283577229,\n",
       "  0.5230659150733866,\n",
       "  0.5276026887703352,\n",
       "  0.5381722697209533,\n",
       "  0.5848468177663483,\n",
       "  0.6044063547999606,\n",
       "  0.6240882451205835,\n",
       "  0.6388227966470841,\n",
       "  0.6528878794431081,\n",
       "  0.6682033002548405,\n",
       "  0.6814892908140923,\n",
       "  0.6907989185869629,\n",
       "  0.6977743890005498,\n",
       "  0.7091696315610109,\n",
       "  0.710020225273761,\n",
       "  0.7158750150974994,\n",
       "  0.719187640108156,\n",
       "  0.7253812713175543,\n",
       "  0.7292562837676017,\n",
       "  0.7299101774975586,\n",
       "  0.730313187583073,\n",
       "  0.7332888604253621,\n",
       "  0.7374111236360075,\n",
       "  0.7404286351054798,\n",
       "  0.7393157707569479,\n",
       "  0.7436097004761534,\n",
       "  0.7463919300256384,\n",
       "  0.7483236227173894,\n",
       "  0.746814053489533,\n",
       "  0.7479020948800142,\n",
       "  0.7496008575488569,\n",
       "  0.7526024683019644,\n",
       "  0.7512204141929105,\n",
       "  0.753749230628141,\n",
       "  0.7569822739268589,\n",
       "  0.7583849981418517,\n",
       "  0.7581284475528923,\n",
       "  0.7593110168461047,\n",
       "  0.7606477638940632,\n",
       "  0.761795053117608,\n",
       "  0.7604094338791402,\n",
       "  0.7623709664950638,\n",
       "  0.7621226623646726,\n",
       "  0.7631708438866448,\n",
       "  0.762356280467776,\n",
       "  0.7623020411170849,\n",
       "  0.7627129779954155,\n",
       "  0.7628372272124633,\n",
       "  0.7639964501629937,\n",
       "  0.765724778679335,\n",
       "  0.7653944509956411,\n",
       "  0.7679646670924978,\n",
       "  0.7675015514855111,\n",
       "  0.7662810362485578,\n",
       "  0.7672044374879364,\n",
       "  0.7670487544221021,\n",
       "  0.768082883545817,\n",
       "  0.7678841077463333,\n",
       "  0.7684463476633955,\n",
       "  0.7693693083834106,\n",
       "  0.7692995142914215,\n",
       "  0.7685741986242182,\n",
       "  0.7680209208815048,\n",
       "  0.7678264491350476,\n",
       "  0.7699690258277075,\n",
       "  0.7688035269414489,\n",
       "  0.7687781123183791,\n",
       "  0.7691432409088875,\n",
       "  0.7691044955204841,\n",
       "  0.7698219442028496,\n",
       "  0.7694866318159974,\n",
       "  0.7685249384205507,\n",
       "  0.7697678543688461,\n",
       "  0.771327564001417],\n",
       " 'res-stdv': [0.003391668222468766,\n",
       "  0.010274701237429271,\n",
       "  0.010717486347147528,\n",
       "  0.009847386871810648,\n",
       "  0.008289037656979213,\n",
       "  0.007026273064218864,\n",
       "  0.010539991839503346,\n",
       "  0.009475861381881643,\n",
       "  0.016990442444825976,\n",
       "  0.014740131982543906,\n",
       "  0.014643840781159238,\n",
       "  0.013725093176093316,\n",
       "  0.01162093888272548,\n",
       "  0.012112162769636167,\n",
       "  0.014800995006260044,\n",
       "  0.01265810281292538,\n",
       "  0.010203597973681651,\n",
       "  0.009988445630947997,\n",
       "  0.011949275209217354,\n",
       "  0.015141533025081129,\n",
       "  0.013720189913663276,\n",
       "  0.01270987012283099,\n",
       "  0.014101414850854938,\n",
       "  0.014556826092188177,\n",
       "  0.01572046690014144,\n",
       "  0.01630829385190802,\n",
       "  0.01738262851485125,\n",
       "  0.01935150431861345,\n",
       "  0.01955659187825028,\n",
       "  0.019982689072978614,\n",
       "  0.016529765366883376,\n",
       "  0.016709335979474608,\n",
       "  0.018417269710361363,\n",
       "  0.017670697428563534,\n",
       "  0.01939760807157294,\n",
       "  0.01781891213334263,\n",
       "  0.017492995620750483,\n",
       "  0.01331662709983619,\n",
       "  0.015527683093180844,\n",
       "  0.016527019938934448,\n",
       "  0.016277865638838818,\n",
       "  0.017344484046018693,\n",
       "  0.015683598541508626,\n",
       "  0.01464715762477894,\n",
       "  0.015003225814978684,\n",
       "  0.013265144706797799,\n",
       "  0.013948109776149808,\n",
       "  0.013173831530987404,\n",
       "  0.015535441283261378,\n",
       "  0.014564073555148967,\n",
       "  0.014142223720349772,\n",
       "  0.01634190880801261,\n",
       "  0.015698950678064025,\n",
       "  0.016654034696517654,\n",
       "  0.01541301943230007,\n",
       "  0.01402541626063211,\n",
       "  0.01365667103644906,\n",
       "  0.014462588530749651,\n",
       "  0.013679283293045016,\n",
       "  0.01308209221494623,\n",
       "  0.01360375860563536,\n",
       "  0.013437739027954778,\n",
       "  0.011976644227360373,\n",
       "  0.012032785149145901,\n",
       "  0.012144926374291045,\n",
       "  0.01341041478665103,\n",
       "  0.01456265681513214,\n",
       "  0.014783024591765863,\n",
       "  0.014527107761906667,\n",
       "  0.01108869599352855,\n",
       "  0.013296498109723198,\n",
       "  0.012568597854865617,\n",
       "  0.0130850560094186,\n",
       "  0.014061865416620092,\n",
       "  0.015904804942639107,\n",
       "  0.012638372891476488]}"
      ]
     },
     "execution_count": 6,
     "metadata": {},
     "output_type": "execute_result"
    }
   ],
   "source": [
    "lgb.cv(lgb_params,dtrain,feval=evalMetric,early_stopping_rounds=100,verbose_eval=5,num_boost_round=10000,nfold=3,metrics=['evalMetric'])"
   ]
  },
  {
   "cell_type": "markdown",
   "metadata": {},
   "source": [
    "## 训练"
   ]
  },
  {
   "cell_type": "code",
   "execution_count": 7,
   "metadata": {},
   "outputs": [
    {
     "name": "stderr",
     "output_type": "stream",
     "text": [
      "/Library/Frameworks/Python.framework/Versions/3.6/lib/python3.6/site-packages/sklearn/metrics/classification.py:1135: UndefinedMetricWarning: F-score is ill-defined and being set to 0.0 due to no predicted samples.\n",
      "  'precision', 'predicted', average, warn_for)\n"
     ]
    },
    {
     "name": "stdout",
     "output_type": "stream",
     "text": [
      "[5]\ttraining's res: 0.579808\n",
      "[10]\ttraining's res: 0.784924\n",
      "[15]\ttraining's res: 0.89353\n",
      "[20]\ttraining's res: 0.928722\n",
      "[25]\ttraining's res: 0.947548\n",
      "[30]\ttraining's res: 0.962023\n",
      "[35]\ttraining's res: 0.973139\n",
      "[40]\ttraining's res: 0.981353\n",
      "[45]\ttraining's res: 0.986774\n",
      "[50]\ttraining's res: 0.991198\n",
      "[55]\ttraining's res: 0.994305\n",
      "[60]\ttraining's res: 0.995929\n",
      "[65]\ttraining's res: 0.997981\n",
      "[70]\ttraining's res: 0.999331\n",
      "[75]\ttraining's res: 0.999556\n",
      "[80]\ttraining's res: 1\n",
      "[85]\ttraining's res: 1\n",
      "[90]\ttraining's res: 1\n",
      "[95]\ttraining's res: 1\n",
      "[100]\ttraining's res: 1\n",
      "[105]\ttraining's res: 1\n",
      "[110]\ttraining's res: 1\n",
      "[115]\ttraining's res: 1\n",
      "[120]\ttraining's res: 1\n",
      "[125]\ttraining's res: 1\n",
      "[130]\ttraining's res: 1\n",
      "[135]\ttraining's res: 1\n",
      "[140]\ttraining's res: 1\n",
      "[145]\ttraining's res: 1\n",
      "[150]\ttraining's res: 1\n",
      "[155]\ttraining's res: 1\n",
      "[160]\ttraining's res: 1\n",
      "[165]\ttraining's res: 1\n",
      "[170]\ttraining's res: 1\n",
      "[175]\ttraining's res: 1\n",
      "[180]\ttraining's res: 1\n",
      "[185]\ttraining's res: 1\n",
      "[190]\ttraining's res: 1\n",
      "[195]\ttraining's res: 1\n",
      "[200]\ttraining's res: 1\n",
      "[205]\ttraining's res: 1\n",
      "[210]\ttraining's res: 1\n",
      "[215]\ttraining's res: 1\n",
      "[220]\ttraining's res: 1\n",
      "[225]\ttraining's res: 1\n",
      "[230]\ttraining's res: 1\n",
      "[235]\ttraining's res: 1\n",
      "[240]\ttraining's res: 1\n",
      "[245]\ttraining's res: 1\n",
      "[250]\ttraining's res: 1\n",
      "[255]\ttraining's res: 1\n",
      "[260]\ttraining's res: 1\n",
      "[265]\ttraining's res: 1\n",
      "[270]\ttraining's res: 1\n",
      "[275]\ttraining's res: 1\n",
      "[280]\ttraining's res: 1\n",
      "[285]\ttraining's res: 1\n",
      "[290]\ttraining's res: 1\n",
      "[295]\ttraining's res: 1\n",
      "[300]\ttraining's res: 1\n"
     ]
    }
   ],
   "source": [
    "model =lgb.train(lgb_params,dtrain,feval=evalMetric,verbose_eval=5,num_boost_round=300,valid_sets=[dtrain])"
   ]
  },
  {
   "cell_type": "markdown",
   "metadata": {},
   "source": [
    "### 预测"
   ]
  },
  {
   "cell_type": "code",
   "execution_count": 8,
   "metadata": {},
   "outputs": [],
   "source": [
    "pred=model.predict(test.drop(['uid'],axis=1))"
   ]
  },
  {
   "cell_type": "code",
   "execution_count": 9,
   "metadata": {},
   "outputs": [],
   "source": [
    "res =pd.DataFrame({'uid':test.uid,'label':pred})\n"
   ]
  },
  {
   "cell_type": "code",
   "execution_count": 10,
   "metadata": {},
   "outputs": [],
   "source": [
    "res=res.sort_values(by='label',ascending=False)\n",
    "res.label=res.label.map(lambda x: 1 if x>=0.5 else 0)\n",
    "res.label = res.label.map(lambda x: int(x))"
   ]
  },
  {
   "cell_type": "code",
   "execution_count": 11,
   "metadata": {},
   "outputs": [],
   "source": [
    "res.to_csv('../result/lgb-baseline.csv',index=False,header=False,sep=',',columns=['uid','label'])"
   ]
  },
  {
   "cell_type": "code",
   "execution_count": null,
   "metadata": {},
   "outputs": [],
   "source": []
  }
 ],
 "metadata": {
  "kernelspec": {
   "display_name": "Python 3",
   "language": "python",
   "name": "python3"
  },
  "language_info": {
   "codemirror_mode": {
    "name": "ipython",
    "version": 3
   },
   "file_extension": ".py",
   "mimetype": "text/x-python",
   "name": "python",
   "nbconvert_exporter": "python",
   "pygments_lexer": "ipython3",
   "version": "3.6.5"
  }
 },
 "nbformat": 4,
 "nbformat_minor": 2
}
