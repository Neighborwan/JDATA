{
 "cells": [
  {
   "cell_type": "code",
   "execution_count": 1,
   "metadata": {},
   "outputs": [],
   "source": [
    "import pandas as pd\n",
    "import numpy as np\n",
    "import lightgbm as lgb\n",
    "from sklearn import metrics\n",
    "import matplotlib.pyplot as plt\n",
    "import seaborn as sns"
   ]
  },
  {
   "cell_type": "code",
   "execution_count": 2,
   "metadata": {},
   "outputs": [],
   "source": [
    "train = pd.read_csv('../data/train_featureV1.csv')\n",
    "test = pd.read_csv('../data/test_featureV1.csv')"
   ]
  },
  {
   "cell_type": "code",
   "execution_count": 3,
   "metadata": {},
   "outputs": [],
   "source": [
    "dtrain = lgb.Dataset(train.drop(['uid','label'],axis=1),label=train.label)\n",
    "dtest = lgb.Dataset(test.drop(['uid'],axis=1))"
   ]
  },
  {
   "cell_type": "code",
   "execution_count": 4,
   "metadata": {},
   "outputs": [],
   "source": [
    "lgb_params =  {\n",
    "    'boosting_type': 'gbdt',\n",
    "    'objective': 'binary',\n",
    "    'max_bin': 10,\n",
    "    'is_unbalance': True,\n",
    "#    'metric': ('multi_logloss', 'multi_error'),\n",
    "    #'metric_freq': 100,\n",
    "    'is_training_metric': False,\n",
    "    'min_data_in_leaf': 12,\n",
    "    'num_leaves': 84,\n",
    "    'learning_rate': 0.06,\n",
    "    'feature_fraction': 0.8,\n",
    "    'bagging_fraction': 0.8,\n",
    "    'verbosity':-1,\n",
    "#    'gpu_device_id':2,\n",
    "#    'device':'gpu'\n",
    "#    'lambda_l1': 0.001,\n",
    "#    'skip_drop': 0.95,\n",
    "#    'max_drop' : 10\n",
    "    #'lambda_l2': 0.005\n",
    "    #'num_threads': 18\n",
    "}    "
   ]
  },
  {
   "cell_type": "code",
   "execution_count": 5,
   "metadata": {},
   "outputs": [],
   "source": [
    "def evalMetric(preds,dtrain):\n",
    "    \n",
    "    label = dtrain.get_label()\n",
    "    \n",
    "    \n",
    "    pre = pd.DataFrame({'preds':preds,'label':label})\n",
    "    pre= pre.sort_values(by='preds',ascending=False)\n",
    "    \n",
    "    auc = metrics.roc_auc_score(pre.label,pre.preds)\n",
    "\n",
    "    pre.preds=pre.preds.map(lambda x: 1 if x>=0.5 else 0)\n",
    "\n",
    "    f1 = metrics.f1_score(pre.label,pre.preds)\n",
    "    \n",
    "    \n",
    "    res = 0.6*auc +0.4*f1\n",
    "    \n",
    "    return 'res',res,True\n",
    "    \n",
    "\n",
    "    "
   ]
  },
  {
   "cell_type": "markdown",
   "metadata": {},
   "source": [
    "### 本地CV"
   ]
  },
  {
   "cell_type": "code",
   "execution_count": 6,
   "metadata": {},
   "outputs": [
    {
     "name": "stderr",
     "output_type": "stream",
     "text": [
      "/Library/Frameworks/Python.framework/Versions/3.6/lib/python3.6/site-packages/sklearn/metrics/classification.py:1135: UndefinedMetricWarning: F-score is ill-defined and being set to 0.0 due to no predicted samples.\n",
      "  'precision', 'predicted', average, warn_for)\n"
     ]
    },
    {
     "name": "stdout",
     "output_type": "stream",
     "text": [
      "[5]\tcv_agg's res: 0.532553 + 0.00237825\n",
      "[10]\tcv_agg's res: 0.687682 + 0.00669678\n",
      "[15]\tcv_agg's res: 0.767398 + 0.0120484\n",
      "[20]\tcv_agg's res: 0.788201 + 0.0117589\n",
      "[25]\tcv_agg's res: 0.793356 + 0.0117568\n",
      "[30]\tcv_agg's res: 0.7968 + 0.0105036\n",
      "[35]\tcv_agg's res: 0.797758 + 0.0109273\n",
      "[40]\tcv_agg's res: 0.797752 + 0.010425\n",
      "[45]\tcv_agg's res: 0.800466 + 0.00976344\n",
      "[50]\tcv_agg's res: 0.8004 + 0.0108276\n",
      "[55]\tcv_agg's res: 0.800468 + 0.0112744\n",
      "[60]\tcv_agg's res: 0.801999 + 0.0100814\n",
      "[65]\tcv_agg's res: 0.802938 + 0.00945136\n",
      "[70]\tcv_agg's res: 0.801146 + 0.0106368\n",
      "[75]\tcv_agg's res: 0.798958 + 0.0112715\n",
      "[80]\tcv_agg's res: 0.796775 + 0.013597\n",
      "[85]\tcv_agg's res: 0.798424 + 0.0130415\n",
      "[90]\tcv_agg's res: 0.796063 + 0.0141493\n",
      "[95]\tcv_agg's res: 0.796732 + 0.0142432\n",
      "[100]\tcv_agg's res: 0.799454 + 0.0157992\n",
      "[105]\tcv_agg's res: 0.79785 + 0.01656\n",
      "[110]\tcv_agg's res: 0.795762 + 0.0167144\n",
      "[115]\tcv_agg's res: 0.795839 + 0.0143263\n",
      "[120]\tcv_agg's res: 0.796363 + 0.0147508\n",
      "[125]\tcv_agg's res: 0.79361 + 0.0152039\n",
      "[130]\tcv_agg's res: 0.794162 + 0.0160239\n",
      "[135]\tcv_agg's res: 0.793861 + 0.0150856\n",
      "[140]\tcv_agg's res: 0.793206 + 0.0150873\n",
      "[145]\tcv_agg's res: 0.792302 + 0.0137132\n",
      "[150]\tcv_agg's res: 0.79077 + 0.013887\n",
      "[155]\tcv_agg's res: 0.790432 + 0.0148052\n",
      "[160]\tcv_agg's res: 0.791239 + 0.0151928\n"
     ]
    },
    {
     "data": {
      "text/plain": [
       "{'res-mean': [0.4879859081615276,\n",
       "  0.5200680230833247,\n",
       "  0.5273777807648243,\n",
       "  0.5310211422204276,\n",
       "  0.5325527750436186,\n",
       "  0.5337715484171093,\n",
       "  0.5352484979380452,\n",
       "  0.5396498492327391,\n",
       "  0.6310508095514048,\n",
       "  0.687682163384725,\n",
       "  0.7190010749493871,\n",
       "  0.7366123253656905,\n",
       "  0.7489407804142031,\n",
       "  0.7617573940109955,\n",
       "  0.767397545418051,\n",
       "  0.7717924334042552,\n",
       "  0.7767698171981007,\n",
       "  0.7811038268662668,\n",
       "  0.7846872870003483,\n",
       "  0.7882010981928277,\n",
       "  0.7892917896209101,\n",
       "  0.7885907868678146,\n",
       "  0.7914140420540807,\n",
       "  0.7922654010814609,\n",
       "  0.7933564181870111,\n",
       "  0.7943586227491992,\n",
       "  0.7951400424747845,\n",
       "  0.7947332889761031,\n",
       "  0.7954304166447194,\n",
       "  0.796799564319823,\n",
       "  0.7976297401852285,\n",
       "  0.7978405124522151,\n",
       "  0.7963213694863801,\n",
       "  0.7981668960491911,\n",
       "  0.7977579268146756,\n",
       "  0.799075460435683,\n",
       "  0.798261433182435,\n",
       "  0.798105528169593,\n",
       "  0.7998186222989463,\n",
       "  0.7977521979525592,\n",
       "  0.7981225248527601,\n",
       "  0.8002999635276685,\n",
       "  0.7989055367008518,\n",
       "  0.7998974302995384,\n",
       "  0.8004662675509743,\n",
       "  0.8000977347283956,\n",
       "  0.7994670252515331,\n",
       "  0.7994531401710187,\n",
       "  0.7996366746872589,\n",
       "  0.8003998325155015,\n",
       "  0.7999959783033065,\n",
       "  0.8014034360558121,\n",
       "  0.8017913713073543,\n",
       "  0.8005661861332053,\n",
       "  0.8004681101139705,\n",
       "  0.8017854877819,\n",
       "  0.8017233745914928,\n",
       "  0.8028435355933397,\n",
       "  0.8026713009594308,\n",
       "  0.801999082666244,\n",
       "  0.8008184802325059,\n",
       "  0.802332336539227,\n",
       "  0.8029830398710214],\n",
       " 'res-stdv': [0.008738210373287201,\n",
       "  0.0037372782236681007,\n",
       "  0.004809476499670339,\n",
       "  0.004110218817354167,\n",
       "  0.0023782528577751803,\n",
       "  0.0032819075421664516,\n",
       "  0.004281358717901357,\n",
       "  0.007525774209827748,\n",
       "  0.006737096410564802,\n",
       "  0.006696783927019729,\n",
       "  0.0025162587607602525,\n",
       "  0.004650199325179142,\n",
       "  0.003143578838773802,\n",
       "  0.00615600956555264,\n",
       "  0.012048384887220154,\n",
       "  0.012715013051961849,\n",
       "  0.010649805374414819,\n",
       "  0.011901307763244162,\n",
       "  0.01040855324914629,\n",
       "  0.011758916274742043,\n",
       "  0.010640516500176373,\n",
       "  0.0108754220282926,\n",
       "  0.010365106117999819,\n",
       "  0.010035738336157635,\n",
       "  0.01175684773321178,\n",
       "  0.010914342989359414,\n",
       "  0.013277835751117708,\n",
       "  0.011647645410138885,\n",
       "  0.0109614703353521,\n",
       "  0.010503615586079266,\n",
       "  0.01135364403536117,\n",
       "  0.0119635120427341,\n",
       "  0.01096106602470791,\n",
       "  0.012867790972884065,\n",
       "  0.010927296986987772,\n",
       "  0.009578487389712448,\n",
       "  0.010717812578769786,\n",
       "  0.012029076543918207,\n",
       "  0.01154023791750479,\n",
       "  0.01042495633859814,\n",
       "  0.010721823672205996,\n",
       "  0.010182765421393599,\n",
       "  0.01064980832306659,\n",
       "  0.011064810733423542,\n",
       "  0.009763444652560791,\n",
       "  0.00988459673624832,\n",
       "  0.010647585772861956,\n",
       "  0.010419011914335561,\n",
       "  0.010214549628555211,\n",
       "  0.01082760165304333,\n",
       "  0.012246551933197854,\n",
       "  0.011663220546807383,\n",
       "  0.01145013244147238,\n",
       "  0.01124560898531192,\n",
       "  0.011274379544437019,\n",
       "  0.010969298955628903,\n",
       "  0.010221466806992765,\n",
       "  0.010361413826675445,\n",
       "  0.010478364891654657,\n",
       "  0.010081443475850115,\n",
       "  0.010317020044755378,\n",
       "  0.011224112804592538,\n",
       "  0.009967120235177561]}"
      ]
     },
     "execution_count": 6,
     "metadata": {},
     "output_type": "execute_result"
    }
   ],
   "source": [
    "lgb.cv(lgb_params,dtrain,feval=evalMetric,early_stopping_rounds=100,verbose_eval=5,num_boost_round=10000,nfold=3,metrics=['evalMetric'])"
   ]
  },
  {
   "cell_type": "markdown",
   "metadata": {},
   "source": [
    "## 训练"
   ]
  },
  {
   "cell_type": "code",
   "execution_count": 7,
   "metadata": {},
   "outputs": [
    {
     "name": "stderr",
     "output_type": "stream",
     "text": [
      "/Library/Frameworks/Python.framework/Versions/3.6/lib/python3.6/site-packages/sklearn/metrics/classification.py:1135: UndefinedMetricWarning: F-score is ill-defined and being set to 0.0 due to no predicted samples.\n",
      "  'precision', 'predicted', average, warn_for)\n"
     ]
    },
    {
     "name": "stdout",
     "output_type": "stream",
     "text": [
      "[5]\ttraining's res: 0.581648\n",
      "[10]\ttraining's res: 0.82683\n",
      "[15]\ttraining's res: 0.927991\n",
      "[20]\ttraining's res: 0.928469\n",
      "[25]\ttraining's res: 0.929449\n",
      "[30]\ttraining's res: 0.930171\n",
      "[35]\ttraining's res: 0.933117\n",
      "[40]\ttraining's res: 0.935895\n",
      "[45]\ttraining's res: 0.938802\n",
      "[50]\ttraining's res: 0.944034\n",
      "[55]\ttraining's res: 0.94809\n",
      "[60]\ttraining's res: 0.954298\n",
      "[65]\ttraining's res: 0.957591\n",
      "[70]\ttraining's res: 0.962431\n",
      "[75]\ttraining's res: 0.965601\n",
      "[80]\ttraining's res: 0.969498\n",
      "[85]\ttraining's res: 0.972087\n",
      "[90]\ttraining's res: 0.976637\n",
      "[95]\ttraining's res: 0.979243\n",
      "[100]\ttraining's res: 0.98231\n",
      "[105]\ttraining's res: 0.985808\n",
      "[110]\ttraining's res: 0.987714\n",
      "[115]\ttraining's res: 0.990027\n",
      "[120]\ttraining's res: 0.991728\n",
      "[125]\ttraining's res: 0.992584\n",
      "[130]\ttraining's res: 0.993872\n",
      "[135]\ttraining's res: 0.996039\n",
      "[140]\ttraining's res: 0.996912\n",
      "[145]\ttraining's res: 0.996913\n",
      "[150]\ttraining's res: 0.99779\n",
      "[155]\ttraining's res: 0.99845\n",
      "[160]\ttraining's res: 0.998892\n",
      "[165]\ttraining's res: 0.998892\n",
      "[170]\ttraining's res: 0.999334\n",
      "[175]\ttraining's res: 0.999556\n",
      "[180]\ttraining's res: 0.999778\n",
      "[185]\ttraining's res: 0.999778\n",
      "[190]\ttraining's res: 0.999778\n",
      "[195]\ttraining's res: 0.999778\n",
      "[200]\ttraining's res: 0.999778\n",
      "[205]\ttraining's res: 0.999778\n",
      "[210]\ttraining's res: 0.999778\n",
      "[215]\ttraining's res: 0.999778\n",
      "[220]\ttraining's res: 1\n",
      "[225]\ttraining's res: 1\n",
      "[230]\ttraining's res: 1\n",
      "[235]\ttraining's res: 1\n",
      "[240]\ttraining's res: 1\n",
      "[245]\ttraining's res: 1\n",
      "[250]\ttraining's res: 1\n",
      "[255]\ttraining's res: 1\n",
      "[260]\ttraining's res: 1\n",
      "[265]\ttraining's res: 1\n",
      "[270]\ttraining's res: 1\n",
      "[275]\ttraining's res: 1\n",
      "[280]\ttraining's res: 1\n",
      "[285]\ttraining's res: 1\n",
      "[290]\ttraining's res: 1\n",
      "[295]\ttraining's res: 1\n",
      "[300]\ttraining's res: 1\n"
     ]
    }
   ],
   "source": [
    "model =lgb.train(lgb_params,dtrain,feval=evalMetric,verbose_eval=5,num_boost_round=300,valid_sets=[dtrain])"
   ]
  },
  {
   "cell_type": "markdown",
   "metadata": {},
   "source": [
    "### 预测"
   ]
  },
  {
   "cell_type": "code",
   "execution_count": 8,
   "metadata": {},
   "outputs": [],
   "source": [
    "pred=model.predict(test.drop(['uid'],axis=1))"
   ]
  },
  {
   "cell_type": "code",
   "execution_count": 9,
   "metadata": {},
   "outputs": [],
   "source": [
    "res =pd.DataFrame({'uid':test.uid,'label':pred})\n"
   ]
  },
  {
   "cell_type": "code",
   "execution_count": 10,
   "metadata": {},
   "outputs": [],
   "source": [
    "res=res.sort_values(by='label',ascending=False)\n",
    "res.label=res.label.map(lambda x: 1 if x>=0.5 else 0)\n",
    "res.label = res.label.map(lambda x: int(x))"
   ]
  },
  {
   "cell_type": "code",
   "execution_count": 11,
   "metadata": {},
   "outputs": [],
   "source": [
    "res.to_csv('../result/lgb-baseline.csv',index=False,header=False,sep=',',columns=['uid','label'])"
   ]
  },
  {
   "cell_type": "code",
   "execution_count": null,
   "metadata": {},
   "outputs": [],
   "source": []
  }
 ],
 "metadata": {
  "kernelspec": {
   "display_name": "Python 3",
   "language": "python",
   "name": "python3"
  },
  "language_info": {
   "codemirror_mode": {
    "name": "ipython",
    "version": 3
   },
   "file_extension": ".py",
   "mimetype": "text/x-python",
   "name": "python",
   "nbconvert_exporter": "python",
   "pygments_lexer": "ipython3",
   "version": "3.6.5"
  }
 },
 "nbformat": 4,
 "nbformat_minor": 2
}
